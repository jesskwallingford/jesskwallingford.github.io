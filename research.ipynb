{
  "cells": [
    {
      "cell_type": "raw",
      "metadata": {},
      "source": [
        "---\n",
        "title: \"RESEARCH & PUBLICATIONS\"\n",
        "about: \n",
        "  template: marquee\n",
        "---"
      ],
      "id": "dda02766"
    },
    {
      "cell_type": "markdown",
      "metadata": {},
      "source": [
        "### **Peer-reviewed journal articles**\n",
        "\n",
        "**Wallingford, J.K.**, Masters, W.A. (2024). Least-cost diets to teach optimization and consumer behavior, with applications to health equity, poverty measurement and international development. (*Forthcoming in the Journal of Economic Education*). <a href=\"https://arxiv.org/abs/2312.11767#\" target=\"_blank\">arXiv Preprint</a>\n",
        "\n",
        "**Wallingford, J.K.,** de Pee, S., Herforth, A.W., Kuri, S., Bai, Y., Masters, W.A. (2024). Measuring food access using least-cost diets: Results for global monitoring and targeting of interventions to improve food security, nutrition and health. *Global Food Security*, 41:100771. doi: <a href=\"https://www.sciencedirect.com/science/article/pii/S2211912424000336?via%3Dihub#\" target=\"_blank\"> 10.1016/j.gfs.2024.100771</a>\n",
        "\n",
        "**Wallingford, J.**, Martinez, E.M., Masters, W.A. (2023). COVID-19 mobility restrictions and stay-at-home behaviour in 2020 were associated with higher retail food prices worldwide. *Global Food Security*, 37*:*100702. doi: <a href=\"https://www.sciencedirect.com/science/article/pii/S2211912423000329#\" target=\"_blank\">10.1016/j.gfs.2023.100702</a>\n",
        "\n",
        "**Wallingford, J.**, Scott, A.L., Rodrigues, K., Doering, L.C. (2017). Altered developmental expression of the astrocyte-secreted factors hevin and SPARC in the fragile X mouse model. *Frontiers in Molecular Neuroscience*, 10:268. doi: <a href=\"https://www.frontiersin.org/journals/molecular-neuroscience/articles/10.3389/fnmol.2017.00268/full#\" target=\"_blank\">10.3389/fnmol.2017.00268</a>\n",
        "\n",
        "**Wallingford, J.K.**, Deurveilher, S., Currie, R.W., Fawcett, J.P., Semba, K. (2014). Increases in mature brain-derived neurotrophic factor protein in the frontal cortex and basal forebrain during chronic sleep restriction in rats: possible role in initiating allostatic adaptation. *Neuroscience*, 277:174-183. doi: <a href=\"https://pubmed.ncbi.nlm.nih.gov/25010399/#\" target=\"_blank\">10.1016/j.neuroscience.2014.06.067</a>\n",
        "\n",
        "### **Working papers, reports, briefs**\n",
        "\n",
        "**Wallingford, J.K.**, de Pee, S., Herforth, A.W., Kuri, S., Bai, Y., Gilbert, R.D., Masters, W.A. (2024). Using food prices to calculate least-cost healthy and nutrient adequate diets helps inform social protection efforts worldwide. (*Forthcoming in Policy in Focus Magazine*).\n",
        "\n",
        "OECD (2021), \"The contribution of the processed food sector to the triple challenge\" (lead author: **Wallingford, J.**), in Making Better Policies for Food Systems, OECD Publishing, Paris. doi: <a href=\"https://www.oecd-ilibrary.org/agriculture-and-food/making-better-policies-for-food-systems_ddfba4de-en#\" target=\"_blank\">10.1787/ddfba4de-en</a>\n",
        "\n",
        "Gilbert, R., Subedi, B., **Wallingford, J.**, Wilson, N., Masters, W.A. (2019). Nutrient and mycotoxin content of commercially sold premixed infant cereals in Malawi. MaSSP Working Paper 28. Washington, DC: International Food Policy Research Institute (IFPRI). doi: <a href=\"https://ebrary.ifpri.org/digital/collection/p15738coll2/id/133335#\" target=\"_blank\">10.2499/p15738coll2.133335</a>\n",
        "\n",
        "### **Preprints under review at peer-review journals**\n",
        "\n",
        "Masters, W.A., **Wallingford, J.K.**, Herforth, A.W., Bai, Y. (2024). Measuring food access using the Cost of a Healthy Diet (CoHD): Insights from retail prices worldwide. Food Prices for Nutrition project working paper. Boston: Tufts University. <a href=\"https://doi.org/10.12688/verixiv.97.1#\" target=\"_blank\">VeriXiv Preprint</a>\n",
        "\n",
        "### **Current projects**\n",
        "\n",
        "\n",
        "```{css echo=FALSE}\n",
        ".blackbox {\n",
        "  padding: 1em;\n",
        "  background: black;\n",
        "  color: white;\n",
        "  border: 2px solid orange;\n",
        "  border-radius: 10px;\n",
        "}\n",
        ".center {\n",
        "  text-align: center;\n",
        "}\n",
        "```\n",
        "\n",
        "```{=html}\n",
        ":::: {.blackbox data-latex=\"\"}\n",
        "::: {.center data-latex=\"\"}\n",
        "**NOTICE!**\n",
        ":::\n",
        "\n",
        "Thank you for noticing this **new notice**! Your noticing it has\n",
        "been noted, and _will be reported to the authorities_!\n",
        "::::\n",
        "```\n",
        "\n",
        "\n",
        "My current research focuses on trends and inequities in food-related time use, making use of time use diary data from the American Time Use Survey (ATUS). The interactive data visualization below demonstrates how these time use diary data can be transformed into minute-by-minute daily activity sequences to show how time is allocated across different activities over the course of a day, and how time allocations differ across population subgroups. \n",
        "\n",
        "<div class=\"flourish-embed flourish-bar-chart-race\" data-src=\"visualisation/19855601\"><script src=\"https://public.flourish.studio/resources/embed.js\"></script><noscript><img src=\"https://public.flourish.studio/visualisation/19855601/thumbnail\" width=\"100%\" alt=\"bar-chart-race visualization\" /></noscript></div>"
      ],
      "id": "5768cc6e"
    }
  ],
  "metadata": {
    "kernelspec": {
      "display_name": "Python 3",
      "language": "python",
      "name": "python3"
    }
  },
  "nbformat": 4,
  "nbformat_minor": 5
}